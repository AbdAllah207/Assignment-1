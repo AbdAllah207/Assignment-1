{
 "cells": [
  {
   "cell_type": "code",
   "execution_count": 7,
   "id": "fb0cdaf4",
   "metadata": {},
   "outputs": [
    {
     "name": "stdout",
     "output_type": "stream",
     "text": [
      "H1: 0.4581755816327902\n",
      "H2: 0.45421617108297563\n",
      "O1: 0.6330029037800028\n",
      "O2: 0.6315770209474588\n"
     ]
    }
   ],
   "source": [
    "def tanh(x):\n",
    "    e = 2.71828 ** (-2 * x)\n",
    "    return (1 - e) / (1 + e)\n",
    "\n",
    "w1, w2 = 0.3, -0.4\n",
    "w3, w4 = -0.2, 0.1\n",
    "w5, w6 = 0.25, -0.35\n",
    "w7, w8 = -0.15, 0.45\n",
    "\n",
    "b1, b2 = 0.5, 0.7\n",
    "\n",
    "i1, i2 = 0.05, 0.10\n",
    "\n",
    "h1 = tanh((i1 * w1) + (i2 * w3) + b1)\n",
    "h2 = tanh((i1 * w2) + (i2 * w4) + b1)\n",
    "\n",
    "o1 = tanh((h1 * w5) + (h2 * w7) + b2)\n",
    "o2 = tanh((h1 * w6) + (h2 * w8) + b2)\n",
    "\n",
    "print(\"H1:\", h1)\n",
    "print(\"H2:\", h2)\n",
    "print(\"O1:\", o1)\n",
    "print(\"O2:\", o2)"
   ]
  },
  {
   "cell_type": "code",
   "execution_count": null,
   "id": "bf147150",
   "metadata": {},
   "outputs": [],
   "source": []
  }
 ],
 "metadata": {
  "kernelspec": {
   "display_name": "Python 3 (ipykernel)",
   "language": "python",
   "name": "python3"
  },
  "language_info": {
   "codemirror_mode": {
    "name": "ipython",
    "version": 3
   },
   "file_extension": ".py",
   "mimetype": "text/x-python",
   "name": "python",
   "nbconvert_exporter": "python",
   "pygments_lexer": "ipython3",
   "version": "3.9.13"
  }
 },
 "nbformat": 4,
 "nbformat_minor": 5
}
