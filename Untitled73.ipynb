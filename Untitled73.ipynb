{
 "cells": [
  {
   "cell_type": "code",
   "execution_count": 4,
   "id": "9ccad6d4",
   "metadata": {},
   "outputs": [
    {
     "name": "stdout",
     "output_type": "stream",
     "text": [
      "out H1: 0.6858087629527476\n",
      "Output: 0.8822451511695997\n"
     ]
    }
   ],
   "source": [
    "def tanh(x):\n",
    "    return (2 / (1 + (2.71828 ** (-2 * x)))) - 1  \n",
    "\n",
    "w1 = 0.4 \n",
    "w2 = -0.1  \n",
    "\n",
    "b1 = 0.5\n",
    "b2 = 0.7\n",
    "\n",
    "x1 = 0.8\n",
    "x2 = -0.2\n",
    "\n",
    "h1 = tanh((w1 * x1) + (w2 * x2) + b1)\n",
    "output = tanh(h1 + b2)\n",
    "\n",
    "print(\"out H1:\", h1)\n",
    "print(\"Output:\", output)"
   ]
  },
  {
   "cell_type": "code",
   "execution_count": null,
   "id": "e9cdd9b5",
   "metadata": {},
   "outputs": [],
   "source": []
  }
 ],
 "metadata": {
  "kernelspec": {
   "display_name": "Python 3 (ipykernel)",
   "language": "python",
   "name": "python3"
  },
  "language_info": {
   "codemirror_mode": {
    "name": "ipython",
    "version": 3
   },
   "file_extension": ".py",
   "mimetype": "text/x-python",
   "name": "python",
   "nbconvert_exporter": "python",
   "pygments_lexer": "ipython3",
   "version": "3.9.13"
  }
 },
 "nbformat": 4,
 "nbformat_minor": 5
}
